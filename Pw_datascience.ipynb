{
 "cells": [
  {
   "cell_type": "code",
   "execution_count": 5,
   "id": "7204d469-367f-4c84-99a7-46867f2c650e",
   "metadata": {},
   "outputs": [
    {
     "name": "stdout",
     "output_type": "stream",
     "text": [
      "Car name: Toyota\n",
      "Car's average: 23km/h\n"
     ]
    }
   ],
   "source": [
    "# 1. Create a simple class named Car with attribute make, model, and a method display info() that print the\n",
    "# car's details\n",
    "class car:\n",
    "    def __init__(self, model, avg):\n",
    "        self.model = model\n",
    "        self.avg = avg\n",
    "        \n",
    "    def carDet(self):\n",
    "        print(f\"Car name: {self.model}\\nCar's average: {self.avg}\")\n",
    "    \n",
    "toyota = car(\"Toyota\", \"23km/h\")\n",
    "toyota.carDet()"
   ]
  },
  {
   "cell_type": "code",
   "execution_count": 22,
   "id": "406a36f1-8c3f-43f4-b994-ceb52875d0de",
   "metadata": {},
   "outputs": [
    {
     "name": "stdout",
     "output_type": "stream",
     "text": [
      "Area of Circle: 28.26\n",
      "Circumference of circle: 18.84\n"
     ]
    }
   ],
   "source": [
    "#2.Define a class Circle with attributes radius & methods area() & circumference() to calculate the & circumerence of a circle.\n",
    "class circle:\n",
    "    def __init__(self, radius):\n",
    "        self.radius = int(radius)\n",
    "    \n",
    "    def area(self):\n",
    "        return 3.14 * (self.radius ** 2)\n",
    "    \n",
    "    def circumference(self):\n",
    "        return 2 * 3.14 * self.radius\n",
    "    \n",
    "q1 = circle(3)\n",
    "print(f\"Area of Circle: {q1.area()}\")\n",
    "print(f\"Circumference of circle: {q1.circumference()}\")"
   ]
  },
  {
   "cell_type": "code",
   "execution_count": 32,
   "id": "1f664c96-a3e1-4fed-8469-8ff761af6abf",
   "metadata": {},
   "outputs": [
    {
     "name": "stdout",
     "output_type": "stream",
     "text": [
      "Student's name : Mrinal\n",
      "Student's age: 18\n"
     ]
    }
   ],
   "source": [
    "#3.Create a class student with attrbutes name, age & a metod display() to print stundent information.\n",
    "class student:\n",
    "    def __init__(self, name, age):\n",
    "        self.name = name\n",
    "        self.age = age\n",
    "        \n",
    "    def display(self):\n",
    "        return (f\"Student's name : {self.name}\\nStudent's age: {self.age}\")\n",
    "\n",
    "st1 = student(\"Mrinal\", 18)\n",
    "print(st1.display())"
   ]
  },
  {
   "cell_type": "code",
   "execution_count": 38,
   "id": "f0c7bb82-6aa6-43a3-8383-18cd7a8bba25",
   "metadata": {},
   "outputs": [
    {
     "name": "stdout",
     "output_type": "stream",
     "text": [
      "Name: Ramesh\n",
      "Id: 22130\n",
      "Salary:Rs.290 \n",
      " Name: Suresh\n",
      "Id: 14590\n",
      "Salary:Rs.390\n"
     ]
    }
   ],
   "source": [
    "#4. Create a class Employee with attributes name id, and salary & a method display() to print employee details.\n",
    "class Employee:\n",
    "    def __init__(self, name, iden, salary):\n",
    "        self.name = name\n",
    "        self.id = iden\n",
    "        self.salary = salary\n",
    "    \n",
    "    def display(self):\n",
    "        return f\"Name: {self.name}\\nId: {self.id}\\nSalary:{self.salary}\"\n",
    "    \n",
    "emp1 = Employee(\"Ramesh\", 22130, \"Rs.290\")\n",
    "emp2 = Employee(\"Suresh\", 14590, \"Rs.390\")\n",
    "\n",
    "print(emp1.display(),\"\\n\",emp2.display())\n"
   ]
  },
  {
   "cell_type": "code",
   "execution_count": 42,
   "id": "cc83221a-d26c-4c28-8b7e-7db187aa9d78",
   "metadata": {},
   "outputs": [
    {
     "name": "stdout",
     "output_type": "stream",
     "text": [
      "The amount is deposited: 2223\n",
      "The amount withdrawed: 1777\n"
     ]
    }
   ],
   "source": [
    "#Define a class BankAccount with attributes account number balance, & methods deposit() and withdraw\n",
    "class Bank:\n",
    "    def __init__(self, number, balance):\n",
    "        self.number = number\n",
    "        self.balance = balance\n",
    "        \n",
    "    def deposit(self):\n",
    "        return self.balance + self.number\n",
    "    \n",
    "    def widthdraw(self):\n",
    "        return self.balance - self.number\n",
    "\n",
    "ac1 = Bank(223, 2000)\n",
    "print(f\"The amount is deposited: {ac1.deposit()}\")\n",
    "print(f\"The amount withdrawed: {ac1.widthdraw()}\")\n"
   ]
  },
  {
   "cell_type": "code",
   "execution_count": null,
   "id": "42bfc961-ea32-4d57-9dff-2a4de182f755",
   "metadata": {},
   "outputs": [],
   "source": []
  }
 ],
 "metadata": {
  "kernelspec": {
   "display_name": "Python 3 (ipykernel)",
   "language": "python",
   "name": "python3"
  },
  "language_info": {
   "codemirror_mode": {
    "name": "ipython",
    "version": 3
   },
   "file_extension": ".py",
   "mimetype": "text/x-python",
   "name": "python",
   "nbconvert_exporter": "python",
   "pygments_lexer": "ipython3",
   "version": "3.10.8"
  }
 },
 "nbformat": 4,
 "nbformat_minor": 5
}
